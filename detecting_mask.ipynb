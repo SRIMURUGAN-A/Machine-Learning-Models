{
 "cells": [
  {
   "cell_type": "code",
   "execution_count": 1,
   "id": "93a1b1c6-86f0-4991-8ed1-c328c43f5560",
   "metadata": {},
   "outputs": [],
   "source": [
    "from keras.models import load_model\n",
    "import cv2\n",
    "import numpy as np"
   ]
  },
  {
   "cell_type": "code",
   "execution_count": 2,
   "id": "9aa43531-5403-46b2-87e5-3a26aea8339a",
   "metadata": {},
   "outputs": [],
   "source": [
    "model = load_model('model-018.keras')\n",
    "\n",
    "face_clss = cv2.CascadeClassifier('haarcascade_frontalface_default.xml')\n",
    "source =cv2.VideoCapture(0)\n",
    "\n",
    "labels_dist = {1:'Mask', 0:'No-Mask'}\n",
    "\n",
    "color_dist = {0:(0,255,0), 1:(0,0,255)}"
   ]
  },
  {
   "cell_type": "code",
   "execution_count": 3,
   "id": "a76d1b0b-42c5-4bac-a0e2-03fe3597810c",
   "metadata": {},
   "outputs": [
    {
     "name": "stderr",
     "output_type": "stream",
     "text": [
      "\n",
      "KeyboardInterrupt\n",
      "\n"
     ]
    }
   ],
   "source": [
    "import cv2\n",
    "import numpy as np\n",
    "from matplotlib import pyplot as plt\n",
    "from IPython.display import clear_output\n",
    "\n",
    "while True:\n",
    "    ret, img = source.read()\n",
    "    if not ret:\n",
    "        break\n",
    "\n",
    "    # Convert the image to grayscale\n",
    "    gray = cv2.cvtColor(img, cv2.COLOR_BGR2GRAY)\n",
    "\n",
    "    faces = face_clss.detectMultiScale(gray, 1.3, 5)\n",
    "\n",
    "    for x, y, w, h in faces:\n",
    "        face_img = gray[y:y+h, x:x+w]\n",
    "        resized = cv2.resize(face_img, (100, 100))\n",
    "        normalized = resized / 255.0\n",
    "        reshaped = np.reshape(normalized, (1, 100, 100, 1))\n",
    "\n",
    "        result = model.predict(reshaped)\n",
    "        label = np.argmax(result, axis=1)[0]\n",
    "\n",
    "        cv2.rectangle(img, (x, y), (x + w, y + h), color_dist[label], 2)\n",
    "        cv2.rectangle(img, (x, y - 40), (x + w, y), color_dist[label], -1)\n",
    "        cv2.putText(img, labels_dist[label], (x, y - 10), cv2.FONT_HERSHEY_SIMPLEX, 0.8, (255, 255, 255), 2)\n",
    "\n",
    "    # Show image using matplotlib\n",
    "    clear_output(wait=True)\n",
    "    img_rgb = cv2.cvtColor(img, cv2.COLOR_BGR2RGB)\n",
    "    plt.imshow(img_rgb)\n",
    "    plt.axis('off')\n",
    "    plt.show()\n",
    "\n",
    "    # Add short delay to simulate frame update\n",
    "    import time\n",
    "    time.sleep(0.03)\n",
    "\n",
    "source.release()\n"
   ]
  },
  {
   "cell_type": "code",
   "execution_count": null,
   "id": "f31952ea-c28b-4ca5-9dfd-3974676eae5f",
   "metadata": {},
   "outputs": [],
   "source": []
  },
  {
   "cell_type": "code",
   "execution_count": null,
   "id": "a076bed4-e06c-4129-afbf-483d4b2c45c9",
   "metadata": {},
   "outputs": [],
   "source": []
  },
  {
   "cell_type": "code",
   "execution_count": null,
   "id": "bd3d8bd2-fc1f-42f6-b6dd-db246bdb671d",
   "metadata": {},
   "outputs": [],
   "source": []
  },
  {
   "cell_type": "code",
   "execution_count": null,
   "id": "3197d1cb-d2cf-47dc-a494-2216ab086ccc",
   "metadata": {},
   "outputs": [],
   "source": []
  }
 ],
 "metadata": {
  "kernelspec": {
   "display_name": "Python (Python312)",
   "language": "python",
   "name": "python312"
  },
  "language_info": {
   "codemirror_mode": {
    "name": "ipython",
    "version": 3
   },
   "file_extension": ".py",
   "mimetype": "text/x-python",
   "name": "python",
   "nbconvert_exporter": "python",
   "pygments_lexer": "ipython3",
   "version": "3.12.3"
  }
 },
 "nbformat": 4,
 "nbformat_minor": 5
}
